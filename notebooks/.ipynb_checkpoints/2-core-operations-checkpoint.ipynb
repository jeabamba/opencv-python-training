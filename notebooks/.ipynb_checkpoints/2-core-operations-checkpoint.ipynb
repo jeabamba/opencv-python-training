{
 "cells": [
  {
   "cell_type": "code",
   "execution_count": 12,
   "metadata": {},
   "outputs": [],
   "source": [
    "import cv2 \n",
    "image = cv2.imread('bernie.jpg', cv2.IMREAD_COLOR)\n",
    "cropped_image = image[302: (302 + 322), 261: (261 + 339)]\n",
    "cv2.imshow('image', cropped_image)\n",
    "cv2.waitKey(0)\n",
    "cv2.destroyAllWindows()"
   ]
  },
  {
   "cell_type": "code",
   "execution_count": 2,
   "metadata": {
    "scrolled": true
   },
   "outputs": [
    {
     "name": "stdout",
     "output_type": "stream",
     "text": [
      "(0, 0, 0, 0)\n"
     ]
    }
   ],
   "source": [
    "from_center = False\n",
    "region = cv2.selectROI(image, from_center)\n",
    "cv2.waitKey(0)\n",
    "cv2.destroyAllWindows()\n",
    "print (region)"
   ]
  },
  {
   "cell_type": "code",
   "execution_count": 3,
   "metadata": {},
   "outputs": [
    {
     "ename": "error",
     "evalue": "OpenCV(3.4.1) C:\\projects\\opencv-python\\opencv\\modules\\highgui\\src\\window.cpp:356: error: (-215) size.width>0 && size.height>0 in function cv::imshow\n",
     "output_type": "error",
     "traceback": [
      "\u001b[1;31m---------------------------------------------------------------------------\u001b[0m",
      "\u001b[1;31merror\u001b[0m                                     Traceback (most recent call last)",
      "\u001b[1;32m<ipython-input-3-c3e6befd89b8>\u001b[0m in \u001b[0;36m<module>\u001b[1;34m()\u001b[0m\n\u001b[0;32m      1\u001b[0m \u001b[0mcropped_image\u001b[0m \u001b[1;33m=\u001b[0m \u001b[0mimage\u001b[0m\u001b[1;33m[\u001b[0m\u001b[0mregion\u001b[0m\u001b[1;33m[\u001b[0m\u001b[1;36m1\u001b[0m\u001b[1;33m]\u001b[0m\u001b[1;33m:\u001b[0m\u001b[1;33m(\u001b[0m\u001b[0mregion\u001b[0m\u001b[1;33m[\u001b[0m\u001b[1;36m1\u001b[0m\u001b[1;33m]\u001b[0m \u001b[1;33m+\u001b[0m \u001b[0mregion\u001b[0m\u001b[1;33m[\u001b[0m\u001b[1;36m3\u001b[0m\u001b[1;33m]\u001b[0m\u001b[1;33m)\u001b[0m\u001b[1;33m,\u001b[0m \u001b[0mregion\u001b[0m\u001b[1;33m[\u001b[0m\u001b[1;36m0\u001b[0m\u001b[1;33m]\u001b[0m\u001b[1;33m:\u001b[0m\u001b[1;33m(\u001b[0m\u001b[0mregion\u001b[0m\u001b[1;33m[\u001b[0m\u001b[1;36m0\u001b[0m\u001b[1;33m]\u001b[0m \u001b[1;33m+\u001b[0m \u001b[0mregion\u001b[0m\u001b[1;33m[\u001b[0m\u001b[1;36m2\u001b[0m\u001b[1;33m]\u001b[0m\u001b[1;33m)\u001b[0m\u001b[1;33m]\u001b[0m\u001b[1;33m\u001b[0m\u001b[0m\n\u001b[1;32m----> 2\u001b[1;33m \u001b[0mcv2\u001b[0m\u001b[1;33m.\u001b[0m\u001b[0mimshow\u001b[0m\u001b[1;33m(\u001b[0m\u001b[1;34m'cropped'\u001b[0m\u001b[1;33m,\u001b[0m \u001b[0mcropped_image\u001b[0m\u001b[1;33m)\u001b[0m\u001b[1;33m\u001b[0m\u001b[0m\n\u001b[0m\u001b[0;32m      3\u001b[0m \u001b[0mcv2\u001b[0m\u001b[1;33m.\u001b[0m\u001b[0mwaitKey\u001b[0m\u001b[1;33m(\u001b[0m\u001b[1;36m0\u001b[0m\u001b[1;33m)\u001b[0m\u001b[1;33m\u001b[0m\u001b[0m\n\u001b[0;32m      4\u001b[0m \u001b[0mcv2\u001b[0m\u001b[1;33m.\u001b[0m\u001b[0mdestroyAllWindows\u001b[0m\u001b[1;33m(\u001b[0m\u001b[1;33m)\u001b[0m\u001b[1;33m\u001b[0m\u001b[0m\n",
      "\u001b[1;31merror\u001b[0m: OpenCV(3.4.1) C:\\projects\\opencv-python\\opencv\\modules\\highgui\\src\\window.cpp:356: error: (-215) size.width>0 && size.height>0 in function cv::imshow\n"
     ]
    }
   ],
   "source": [
    "cropped_image = image[region[1]:(region[1] + region[3]), region[0]:(region[0] + region[2])]\n",
    "cv2.imshow('cropped', cropped_image)\n",
    "cv2.waitKey(0)\n",
    "cv2.destroyAllWindows() "
   ]
  },
  {
   "cell_type": "code",
   "execution_count": null,
   "metadata": {},
   "outputs": [],
   "source": [
    "bernie = cv2.imread('bernie.jpg', cv2.IMREAD_COLOR)\n",
    "grayscale_bernie = cv2.cvtColor(bernie, cv2.COLOR_BGR2GRAY)\n",
    "cv2.imshow('grayscale', grayscale_bernie)\n",
    "cv2.waitKey(0)\n",
    "cv2.destroyAllWindows()"
   ]
  },
  {
   "cell_type": "code",
   "execution_count": null,
   "metadata": {},
   "outputs": [],
   "source": [
    "bernie = cv2.imread('bernie.jpg', cv2.IMREAD_GRAYSCALE)\n",
    "cv2.imshow('grayscale', bernie)\n",
    "cv2.waitKey(0)\n",
    "cv2.destroyAllWindows()"
   ]
  },
  {
   "cell_type": "code",
   "execution_count": null,
   "metadata": {},
   "outputs": [],
   "source": [
    "bernie = cv2.imread('bernie.jpg', cv2.COLOR_BGR2RGB)\n",
    "bernie_rgb = cv2.cvtColor(bernie, cv2.)\n",
    "cv2.imshow('bgr2rgb', bernie)\n",
    "cv2.waitKey(0)\n",
    "cv2.destroyAllWindows()"
   ]
  },
  {
   "cell_type": "code",
   "execution_count": null,
   "metadata": {},
   "outputs": [],
   "source": [
    "howie = cv2.imread('../assets/howie.png', cv2.IMREAD_COLOR)\n",
    "bernie = cv2.imread('../assets/bernie.jpg', cv2.IMREAD_COLOR)\n",
    "sum_image = cv2.add(bernie, howie)\n",
    "blended = cv2.addWeighted(howie, 0.8, bernie, 0.2, 0)\n",
    "cv2.imshow('sum_image', blended)\n",
    "cv2.waitKey(0)\n",
    "cv2.destroyAllWindows()"
   ]
  },
  {
   "cell_type": "code",
   "execution_count": 3,
   "metadata": {},
   "outputs": [
    {
     "name": "stdout",
     "output_type": "stream",
     "text": [
      "(823, 638, 3)\n"
     ]
    }
   ],
   "source": [
    "bernie = cv2.imread('../assets/bernie.jpg', cv2.IMREAD_COLOR)\n",
    "big_bang = cv2.imread('../assets/big-bang.jpg', cv2.IMREAD_COLOR)\n",
    "print(big_bang.shape)"
   ]
  },
  {
   "cell_type": "code",
   "execution_count": 4,
   "metadata": {},
   "outputs": [
    {
     "name": "stdout",
     "output_type": "stream",
     "text": [
      "(205, 159, 3)\n"
     ]
    }
   ],
   "source": [
    "big_bang = cv2.resize(big_bang, (int(big_bang.shape[1] * 0.25), int(big_bang.shape[0] * 0.25)))\n",
    "print(big_bang.shape)"
   ]
  },
  {
   "cell_type": "code",
   "execution_count": 7,
   "metadata": {},
   "outputs": [],
   "source": [
    "rows, cols, channels = big_bang.shape\n",
    "roi = bernie[0:rows, 0:cols]\n",
    "\n",
    "cv2.imshow('roi', roi)\n",
    "cv2.waitKey(0)\n",
    "cv2.destroyAllWindows()"
   ]
  },
  {
   "cell_type": "code",
   "execution_count": 8,
   "metadata": {},
   "outputs": [],
   "source": [
    "bigbang_grey = cv2.cvtColor(big_bang, cv2.COLOR_BGR2GRAY)\n",
    "ret, mask = cv2.threshold(bigbang_grey, 220, 255, cv2.THRESH_BINARY_INV)\n",
    "\n",
    "cv2.imshow('mask', mask)\n",
    "cv2.waitKey(0)\n",
    "cv2.destroyAllWindows()"
   ]
  },
  {
   "cell_type": "code",
   "execution_count": 9,
   "metadata": {},
   "outputs": [],
   "source": [
    "mask_inv = cv2.bitwise_not(mask)\n",
    "\n",
    "cv2.imshow('mask_inv', mask_inv)\n",
    "cv2.waitKey(0)\n",
    "cv2.destroyAllWindows()"
   ]
  },
  {
   "cell_type": "code",
   "execution_count": 10,
   "metadata": {},
   "outputs": [],
   "source": [
    "bernie_bg = cv2.bitwise_and(roi, roi, mask=mask_inv)\n",
    "\n",
    "cv2.imshow('bernie_bg', bernie_bg)\n",
    "cv2.waitKey(0)\n",
    "cv2.destroyAllWindows()"
   ]
  },
  {
   "cell_type": "code",
   "execution_count": 11,
   "metadata": {},
   "outputs": [],
   "source": [
    "bigbang_fg = cv2.bitwise_and(big_bang, big_bang, mask=mask)\n",
    "\n",
    "cv2.imshow('bigbang_fg', bigbang_fg)\n",
    "cv2.waitKey(0)\n",
    "cv2.destroyAllWindows()"
   ]
  },
  {
   "cell_type": "code",
   "execution_count": 14,
   "metadata": {},
   "outputs": [],
   "source": [
    "dst = cv2.add(bernie_bg, bigbang_fg)\n",
    "bernie[0:rows, 0:cols] = dst\n",
    "\n",
    "cv2.namedWindow('bernie_bigbang', cv2.WINDOW_NORMAL)\n",
    "cv2.imshow('bernie_bigbang', bernie)\n",
    "cv2.waitKey(0)\n",
    "cv2.destroyAllWindows()"
   ]
  },
  {
   "cell_type": "code",
   "execution_count": null,
   "metadata": {},
   "outputs": [],
   "source": [
    "#ACTIVITY\n",
    "\n",
    "import cv2\n",
    "\n",
    "jea = cv2.imread('../assets/jea.jpg', cv2.IMREAD_COLOR)\n",
    "accenture = cv2.imread('../assets/accenture.png', cv2.IMREAD_COLOR)\n",
    "print(accenture.shape)"
   ]
  },
  {
   "cell_type": "code",
   "execution_count": null,
   "metadata": {},
   "outputs": [],
   "source": [
    "rows, cols, channels = accenture.shape\n",
    "roi = jea[0:rows, 0:cols]\n",
    "\n",
    "cv2.imshow('roi', roi)\n",
    "cv2.waitKey(0)\n",
    "cv2.destroyAllWindows()"
   ]
  },
  {
   "cell_type": "code",
   "execution_count": null,
   "metadata": {},
   "outputs": [],
   "source": [
    "accenture_grey = cv2.cvtColor(accenture, cv2.COLOR_BGR2GRAY)\n",
    "ret, mask = cv2.threshold(accenture_grey, 220, 255, cv2.THRESH_BINARY_INV)\n",
    "\n",
    "cv2.imshow('mask', mask)\n",
    "cv2.waitKey(0)\n",
    "cv2.destroyAllWindows()"
   ]
  },
  {
   "cell_type": "code",
   "execution_count": null,
   "metadata": {},
   "outputs": [],
   "source": [
    "mask_inv = cv2.bitwise_not(mask)\n",
    "\n",
    "cv2.imshow('mask_inv', mask_inv)\n",
    "cv2.waitKey(0)\n",
    "cv2.destroyAllWindows()"
   ]
  },
  {
   "cell_type": "code",
   "execution_count": null,
   "metadata": {},
   "outputs": [],
   "source": [
    "jea_bg = cv2.bitwise_and(roi, roi, mask=mask_inv)\n",
    "\n",
    "cv2.imshow('jea_bg', jea_bg)\n",
    "cv2.waitKey(0)\n",
    "cv2.destroyAllWindows()"
   ]
  },
  {
   "cell_type": "code",
   "execution_count": null,
   "metadata": {},
   "outputs": [],
   "source": [
    "accenture_fg = cv2.bitwise_and(accenture, accenture, mask=mask)\n",
    "\n",
    "cv2.imshow('accenture_fg', accenture_fg)\n",
    "cv2.waitKey(0)\n",
    "cv2.destroyAllWindows()"
   ]
  },
  {
   "cell_type": "code",
   "execution_count": null,
   "metadata": {},
   "outputs": [],
   "source": [
    "dst = cv2.add(jea_bg, accenture_fg)\n",
    "jea[0:rows, 0:cols] = dst\n",
    "\n",
    "cv2.namedWindow('jea_accenture', cv2.WINDOW_NORMAL)\n",
    "cv2.imshow('jea_accenture', jea)\n",
    "cv2.waitKey(0)\n",
    "cv2.destroyAllWindows()"
   ]
  },
  {
   "cell_type": "code",
   "execution_count": null,
   "metadata": {},
   "outputs": [],
   "source": [
    "cv2.imwrite('bamba-jeffelea.jpg', jea)\n",
    "cv2.waitKey(0)\n",
    "cv2.destroyAllWindows()"
   ]
  },
  {
   "cell_type": "code",
   "execution_count": null,
   "metadata": {},
   "outputs": [],
   "source": []
  }
 ],
 "metadata": {
  "kernelspec": {
   "display_name": "Python 3",
   "language": "python",
   "name": "python3"
  },
  "language_info": {
   "codemirror_mode": {
    "name": "ipython",
    "version": 3
   },
   "file_extension": ".py",
   "mimetype": "text/x-python",
   "name": "python",
   "nbconvert_exporter": "python",
   "pygments_lexer": "ipython3",
   "version": "3.6.5"
  }
 },
 "nbformat": 4,
 "nbformat_minor": 2
}
