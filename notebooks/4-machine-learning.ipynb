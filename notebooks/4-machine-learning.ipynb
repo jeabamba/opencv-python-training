{
 "cells": [
  {
   "cell_type": "code",
   "execution_count": null,
   "metadata": {},
   "outputs": [],
   "source": [
    "import cv2\n",
    "import numpy as np\n",
    "import matplotlib.pyplot as plt"
   ]
  },
  {
   "cell_type": "code",
   "execution_count": null,
   "metadata": {},
   "outputs": [],
   "source": [
    "digits = cv2.imread('../datasets/digits.png', 0)\n",
    "print(digits.shape)"
   ]
  },
  {
   "cell_type": "code",
   "execution_count": null,
   "metadata": {},
   "outputs": [],
   "source": [
    "images = [np.hsplit(row, 100) for row in np.vsplit(digits, 50)]\n",
    "\n",
    "images = np.array(images, dtype = np.float32)\n",
    "print(images.shape)"
   ]
  },
  {
   "cell_type": "code",
   "execution_count": null,
   "metadata": {},
   "outputs": [],
   "source": [
    "train_features = images[:, :50].reshape(-1, (20 * 20))\n",
    "\n",
    "print(train_features)"
   ]
  },
  {
   "cell_type": "code",
   "execution_count": null,
   "metadata": {},
   "outputs": [],
   "source": [
    "test_features = images[:, 50:100].reshape(-1, (20 * 20))\n",
    "\n",
    "print(test_features)"
   ]
  },
  {
   "cell_type": "code",
   "execution_count": null,
   "metadata": {},
   "outputs": [],
   "source": [
    "k = np.arange(10)\n",
    "train_labels = np.repeat(k, 250).reshape(-1, 1)\n",
    "test_labels = train_labels.copy()\n",
    "\n",
    "train_features -= np.mean(train_features, axis=0)\n",
    "test_features -= np.mean(train_features, axis=0)\n",
    "\n",
    "print(test_labels.shape)"
   ]
  },
  {
   "cell_type": "code",
   "execution_count": null,
   "metadata": {},
   "outputs": [],
   "source": [
    "knn = cv2.ml.KNearest_create()"
   ]
  },
  {
   "cell_type": "code",
   "execution_count": null,
   "metadata": {},
   "outputs": [],
   "source": [
    "knn.train(train_features, cv2.ml.ROW_SAMPLE, train_labels)"
   ]
  },
  {
   "cell_type": "code",
   "execution_count": null,
   "metadata": {},
   "outputs": [],
   "source": [
    "ret, result, neighbors, dist = knn.findNearest(test_features, 3)\n",
    "\n",
    "matches = np.equal(result, test_labels)\n",
    "matches = matches.astype(np.int)\n",
    "\n",
    "correct = np.count_nonzero(matches)\n",
    "\n",
    "accuracy = (correct * 100.00) / result.size"
   ]
  },
  {
   "cell_type": "code",
   "execution_count": null,
   "metadata": {},
   "outputs": [],
   "source": [
    "print('Accuracy: {}'.format(accuracy))"
   ]
  },
  {
   "cell_type": "code",
   "execution_count": null,
   "metadata": {},
   "outputs": [],
   "source": [
    "fashion = cv2.imread('../datasets/fashion.png', 0)\n",
    "print(fashion.shape)"
   ]
  },
  {
   "cell_type": "code",
   "execution_count": null,
   "metadata": {},
   "outputs": [],
   "source": [
    "images = [np.hsplit(row, 100) for row in np.vsplit(digits, 50)]\n",
    "\n",
    "images = np.array(images, dtype = np.float32)\n",
    "print(images.shape)"
   ]
  },
  {
   "cell_type": "code",
   "execution_count": null,
   "metadata": {},
   "outputs": [],
   "source": [
    "train_features = images[:, :50].reshape(-1, (20 * 20))\n",
    "\n",
    "print(train_features)"
   ]
  },
  {
   "cell_type": "code",
   "execution_count": null,
   "metadata": {},
   "outputs": [],
   "source": [
    "test_features = images[:, 50:100].reshape(-1, (20 * 20))\n",
    "\n",
    "print(test_features)"
   ]
  },
  {
   "cell_type": "code",
   "execution_count": null,
   "metadata": {},
   "outputs": [],
   "source": [
    "k = np.arange(10)\n",
    "train_labels = np.repeat(k, 250).reshape(-1, 1)\n",
    "test_labels = train_labels.copy()\n",
    "\n",
    "print(test_labels.shape)"
   ]
  },
  {
   "cell_type": "code",
   "execution_count": null,
   "metadata": {},
   "outputs": [],
   "source": [
    "knn = cv2.ml.KNearest_create()\n",
    "\n",
    "knn.train(train_features, cv2.ml.ROW_SAMPLE, train_labels)"
   ]
  },
  {
   "cell_type": "code",
   "execution_count": null,
   "metadata": {},
   "outputs": [],
   "source": [
    "ret, result, neighbors, dist = knn.findNearest(test_features, 3)\n",
    "\n",
    "matches = np.equal(result, test_labels)\n",
    "matches = matches.astype(np.int)\n",
    "\n",
    "correct = np.count_nonzero(matches)\n",
    "\n",
    "accuracy = (correct * 100.00) / result.size\n",
    "\n",
    "print('Accuracy: {}'.format(accuracy))"
   ]
  },
  {
   "cell_type": "code",
   "execution_count": null,
   "metadata": {},
   "outputs": [],
   "source": [
    "                                        #########ACTIVITY############"
   ]
  },
  {
   "cell_type": "code",
   "execution_count": null,
   "metadata": {},
   "outputs": [],
   "source": [
    "fashion = cv2.imread('../datasets/fashion.png', 0)\n",
    "print(fashion.shape)"
   ]
  },
  {
   "cell_type": "code",
   "execution_count": null,
   "metadata": {},
   "outputs": [],
   "source": [
    "fashion_images = [np.hsplit(row, 30) for row in np.vsplit(fashion, 30)]\n",
    "\n",
    "fashion_images = np.array(fashion_images, dtype = np.float32)\n",
    "\n",
    "plt.imshow(fashion_images[1,1], cmap = 'gray')\n",
    "plt.show()   \n",
    "\n",
    "print(fashion_images.shape)"
   ]
  },
  {
   "cell_type": "code",
   "execution_count": null,
   "metadata": {},
   "outputs": [],
   "source": [
    "fashion_train_features = fashion_images[:, :15].reshape(-1, (28 * 28))\n",
    "\n",
    "print(fashion_train_features)"
   ]
  },
  {
   "cell_type": "code",
   "execution_count": null,
   "metadata": {},
   "outputs": [],
   "source": [
    "fashion_test_features = fashion_images[:, 15:30].reshape(-1, (28 * 28))\n",
    "\n",
    "print(fashion_test_features)"
   ]
  },
  {
   "cell_type": "code",
   "execution_count": null,
   "metadata": {},
   "outputs": [],
   "source": [
    "fashion_k = np.arange(10)\n",
    "fashion_train_labels = np.repeat(fashion_k, 45).reshape(-1, 1)\n",
    "fashion_test_labels = fashion_train_labels.copy()\n",
    "\n",
    "print(fashion_test_labels.shape)"
   ]
  },
  {
   "cell_type": "code",
   "execution_count": null,
   "metadata": {},
   "outputs": [],
   "source": [
    "fashion_knn = cv2.ml.KNearest_create()\n",
    "\n",
    "fashion_knn.train(fashion_train_features, cv2.ml.ROW_SAMPLE, fashion_train_labels)\n",
    "\n",
    "ret, result, neighbors, dist = fashion_knn.findNearest(fashion_test_features, 3)\n",
    "\n",
    "matches = np.equal(result, fashion_test_labels)\n",
    "matches = matches.astype(np.int)\n",
    "\n",
    "correct = np.count_nonzero(matches)\n",
    "\n",
    "accuracy = (correct * 100.00) / result.size\n",
    "\n",
    "print('Accuracy: {}'.format(accuracy))"
   ]
  },
  {
   "cell_type": "code",
   "execution_count": null,
   "metadata": {},
   "outputs": [],
   "source": [
    "                                    ############DIGITS_SVM#############"
   ]
  },
  {
   "cell_type": "code",
   "execution_count": null,
   "metadata": {},
   "outputs": [],
   "source": [
    "digits = cv2.imread('../datasets/digits.png', 0)\n",
    "\n",
    "images = [np.hsplit(row, 100) for row in np.vsplit(digits, 50)]\n",
    "images = np.array(images, dtype=np.float32)\n",
    "\n",
    "model = cv2.ml.SVM_create()\n",
    "\n",
    "model.setKernel(cv2.ml.SVM_LINEAR)\n",
    "model.setC(2.67)\n",
    "model.setGamma(5.383)\n",
    "model.setType(cv2.ml.SVM_C_SVC)\n",
    "\n",
    "model.train(train_features, cv2.ml.ROW_SAMPLE, train_labels)\n",
    "\n",
    "result = model.predict(test_features)\n",
    "\n",
    "matches = np.equal(result[1], test_labels)\n",
    "matches = matches.astype(np.int)\n",
    "\n",
    "correct = np.count_nonzero(matches)\n",
    "accuracy = ((correct * 100.00) / result[1].size)\n",
    "\n",
    "print('Accuracy: {}'.format(accuracy)) "
   ]
  },
  {
   "cell_type": "code",
   "execution_count": null,
   "metadata": {},
   "outputs": [],
   "source": [
    "                                    ############FASHION_SVM#############"
   ]
  },
  {
   "cell_type": "code",
   "execution_count": null,
   "metadata": {},
   "outputs": [],
   "source": [
    "fashion = cv2.imread('../datasets/fashion.png', 0)\n",
    "\n",
    "fashion_images = [np.hsplit(row, 30) for row in np.vsplit(fashion, 30)]\n",
    "fashion_images = np.array(fashion_images, dtype=np.float32)\n",
    "\n",
    "model = cv2.ml.SVM_create()\n",
    "\n",
    "model.setKernel(cv2.ml.SVM_LINEAR)\n",
    "model.setC(2.67)\n",
    "model.setGamma(5.383)\n",
    "model.setType(cv2.ml.SVM_C_SVC)\n",
    "\n",
    "model.train(fashion_train_features, cv2.ml.ROW_SAMPLE, fashion_train_labels)\n",
    "\n",
    "result = model.predict(fashion_test_features)\n",
    "\n",
    "matches = np.equal(result[1], fashion_test_labels)\n",
    "matches = matches.astype(np.int)\n",
    "\n",
    "correct = np.count_nonzero(matches)\n",
    "accuracy = ((correct * 100.00) / result[1].size)\n",
    "\n",
    "print('Accuracy: {}'.format(accuracy)) "
   ]
  }
 ],
 "metadata": {
  "kernelspec": {
   "display_name": "Python 3",
   "language": "python",
   "name": "python3"
  },
  "language_info": {
   "codemirror_mode": {
    "name": "ipython",
    "version": 3
   },
   "file_extension": ".py",
   "mimetype": "text/x-python",
   "name": "python",
   "nbconvert_exporter": "python",
   "pygments_lexer": "ipython3",
   "version": "3.6.5"
  }
 },
 "nbformat": 4,
 "nbformat_minor": 2
}
